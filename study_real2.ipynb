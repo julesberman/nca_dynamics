{
 "cells": [
  {
   "cell_type": "code",
   "execution_count": 11,
   "metadata": {},
   "outputs": [
    {
     "name": "stdout",
     "output_type": "stream",
     "text": [
      "The autoreload extension is already loaded. To reload it, use:\n",
      "  %reload_ext autoreload\n"
     ]
    }
   ],
   "source": [
    "import scipy\n",
    "import numpy as np\n",
    "from fitters import *\n",
    "from tools import *\n",
    "from plots import *\n",
    "from projectors import *\n",
    "set_seaborn({'figure.figsize': (12,8)})\n",
    "%load_ext autoreload\n",
    "%autoreload 2\n"
   ]
  },
  {
   "cell_type": "code",
   "execution_count": 12,
   "metadata": {},
   "outputs": [],
   "source": [
    "resPH, stimPH = read_lmc('PHOTO')\n",
    "res1, stim3 = read_lmc('LMC-BG1')\n",
    "res2, stim3 = read_lmc('LMC-BG2')\n",
    "res3, stim3 = read_lmc('LMC-BG3')\n",
    "res4, stim4 = read_lmc('LMC-BG4')\n",
    "res5, stim5 = read_lmc('LMC-BG5')\n",
    "res6, stim6 = read_lmc('LMC-BG6')\n",
    "\n",
    "TIME = 1.0\n",
    "all_results = []"
   ]
  },
  {
   "cell_type": "code",
   "execution_count": 13,
   "metadata": {},
   "outputs": [],
   "source": [
    "def get_data(Ydataset, factor, Xdataset='PHOTO'):\n",
    "    resX, stim = read_lmc(Xdataset)\n",
    "    resY, stim = read_lmc(Ydataset)\n",
    "    X = preprocess(resX, factor=factor, method='mean')\n",
    "    Y = preprocess(resY, factor=factor, method='mean')\n",
    "\n",
    "    return X, Y\n"
   ]
  },
  {
   "cell_type": "code",
   "execution_count": 14,
   "metadata": {},
   "outputs": [],
   "source": [
    "def convert_dtms_windowms_to_factor_dim(dt, window, TIME=1.0, LEN=10000):\n",
    "    orignal_dt_ms = TIME/LEN * 1000\n",
    "    factor = int(dt/orignal_dt_ms)\n",
    "    dim = int(window / dt)\n",
    "    return factor, dim\n"
   ]
  },
  {
   "cell_type": "code",
   "execution_count": 15,
   "metadata": {},
   "outputs": [],
   "source": [
    "\n",
    "def test_run(beta=0, dt_ms=1.0, lag_ms=50, method='eig', top_i=1, dataset='', window_factor=2.0):\n",
    "\n",
    "    factor, dim = convert_dtms_windowms_to_factor_dim(dt_ms, lag_ms)\n",
    "    X_series, Y_series = get_data(dataset, factor)\n",
    "\n",
    "    time = np.linspace(0, 1, len(X_series))\n",
    "\n",
    "    if method == 'eig':\n",
    "        Xhan = build_hankel(X_series, dim)\n",
    "        X0 = Xhan[:, :-1]\n",
    "        Xp = Xhan[:, 1:]\n",
    "        lam = beta * np.eye(dim)\n",
    "\n",
    "        X0Xp = X0 @ Xp.T\n",
    "        X0X0 = X0 @ X0.T\n",
    "        # solve eigenvalue problem\n",
    "        w, vl = scipy.linalg.eig(X0Xp, (X0X0+lam))\n",
    "\n",
    "        sortorder = np.argsort(w)\n",
    "        thetas = vl[:, sortorder][:, ::-1]\n",
    "        # theta = thetas[:, -2]\n",
    "        w = w[sortorder][::-1]\n",
    "\n",
    "        thetas[:, :top_i] *= thetas[:, :top_i][-1]\n",
    "        theta = np.mean(thetas[:, :top_i], axis=-1)\n",
    "\n",
    "        P_series = theta.real @ Xhan\n",
    "\n",
    "    elif method == 'eig-comp':\n",
    "        Xhan = build_hankel(X_series, dim)\n",
    "        X0 = Xhan[:, :-1]\n",
    "        Xp = Xhan[:, 1:]\n",
    "        Xp = Xp[-1]\n",
    "        lam = beta * np.eye(dim)\n",
    "\n",
    "        a = (Xp @ X0.T) @ np.linalg.inv((X0 @ X0.T) + lam)\n",
    "        A = np.eye(dim, k=1)\n",
    "        A[-1] = a\n",
    "        w, vl = scipy.linalg.eig(A, left=True, right=False)\n",
    "\n",
    "        sortorder = np.argsort(w)\n",
    "        thetas = vl[:, sortorder][:, ::-1]\n",
    "        # theta = thetas[:, -2]\n",
    "        w = w[sortorder][::-1]\n",
    "\n",
    "        thetas[:, :top_i] *= thetas[:, :top_i][-1]\n",
    "        theta = np.mean(thetas[:, :top_i] * w[:top_i], axis=-1)\n",
    "\n",
    "        P_series = theta.real @ Xhan\n",
    "\n",
    "    elif method == 'eig-C':\n",
    "        P_series, theta, A, c = eig_companion_Cshift(X_series, dim, beta=beta)\n",
    "\n",
    "    elif method == 'eig-C-TIME':\n",
    "        P_series, theta = eig_companion_Cshift_time(\n",
    "            X_series, dim, beta=beta, window_factor=window_factor)\n",
    "\n",
    "    elif method == 'eig-TIME':\n",
    "        P_series, theta = eig_companion_time(\n",
    "            X_series, dim, beta=beta, window_factor=window_factor)\n",
    "\n",
    "\n",
    "    elif method == 'PredCoding':\n",
    "        Xhan = build_hankel(X_series, dim)\n",
    "        X0 = Xhan[:-1]\n",
    "        Xp = Xhan[-1:]\n",
    "\n",
    "        lam = beta * np.eye(dim-1)\n",
    "\n",
    "        a = (Xp @ X0.T) @ np.linalg.inv((X0 @ X0.T) + lam)\n",
    "        theta = np.concatenate((-a,1), axis=None)\n",
    "        theta /= theta[-1]\n",
    "        P_series = theta @ Xhan\n",
    "\n",
    "\n",
    "    elif method == 'PredCodingWindow':\n",
    "\n",
    "        N = len(X_series)\n",
    "        window = int(dim * window_factor)\n",
    "        thetas = []\n",
    "        for i in range(window, N, 1):\n",
    "            sl = slice(i-window, i)\n",
    "            Xhan = build_hankel(X_series[sl], dim)\n",
    "            X0 = Xhan[:-1]\n",
    "            Xp = Xhan[-1:]\n",
    "            lam = beta * np.eye(dim-1)\n",
    "            a = (Xp @ X0.T) @ np.linalg.inv((X0 @ X0.T) + lam)\n",
    "            theta = np.concatenate((-a,1), axis=None)\n",
    "            theta /= theta[-1]\n",
    "            P_series = theta @ Xhan\n",
    "            thetas.append(theta)\n",
    "\n",
    "        Xhan = build_hankel(X_series, dim)\n",
    "        theta = np.mean(thetas, axis=0)\n",
    "        P_series = theta.real @ Xhan\n",
    "\n",
    "\n",
    "    elif method == 'svd':\n",
    "        Xhan = build_hankel(X_series, dim)\n",
    "        X0 = Xhan[:, :-1]\n",
    "        Xp = Xhan[:, 1:]\n",
    "        Xp = Xp[-1]\n",
    "        lam = beta * np.eye(dim)\n",
    "\n",
    "        a = (Xp @ X0.T) @ np.linalg.inv((X0 @ X0.T) + lam)\n",
    "        A = np.eye(dim, k=1)\n",
    "        A[-1] = a\n",
    "\n",
    "        U, s, Vh = scipy.linalg.svd(A)\n",
    "        theta = Vh[0, :]\n",
    "        P_series = theta @ Xhan\n",
    "\n",
    "\n",
    "\n",
    "    elif method == 'constant':\n",
    "        # dim = 1\n",
    "        # Xhan = build_hankel(X_series, dim)\n",
    "        # theta = np.ones(dim)\n",
    "        P_series = X_series[dim:]\n",
    "        theta = np.ones(dim)\n",
    "\n",
    "\n",
    "    elif method == 'DMD':\n",
    "        Xhan = build_hankel(X_series, dim)\n",
    "        X0 = Xhan[:, :-1]\n",
    "        Xp = Xhan[:, 1:]\n",
    "        r = dim // 2\n",
    "        u, s, v = np.linalg.svd(X0, full_matrices=False)\n",
    "        u, s, v = u[:, :r], s[:r], v[:r, :]\n",
    "\n",
    "        s_inv = np.diag(1/s)\n",
    "\n",
    "        A = u.conj().T @ Xp @ v.conj().T @ s_inv\n",
    "        w, vl = scipy.linalg.eig(A, left=True, right=False)\n",
    "\n",
    "        largest_evec_hat = vl[:, np.nanargmax(w)]\n",
    "        theta = u @ largest_evec_hat\n",
    "        P_series = theta.real @ Xhan\n",
    "\n",
    "    Y_series = Y_series[dim:]\n",
    "    P_series = solve_scale_shift(P_series, Y_series)\n",
    "\n",
    "    err = mean_square_error(Y_series, P_series)  # / np.linalg.norm(Y_series)\n",
    "\n",
    "    result = {\n",
    "        'Time-X': time,\n",
    "        'Time-Y': time[dim:],\n",
    "        'Time-Filter': np.linspace(-lag_ms, 0, dim),\n",
    "        'Theta (REAL)': theta.real,\n",
    "        'Theta (IMAG)': theta.imag,\n",
    "        'X_series': X_series,\n",
    "        'Y_series': Y_series,\n",
    "        'P_series': P_series,\n",
    "        'MSE': err\n",
    "    }\n",
    "    return result\n"
   ]
  },
  {
   "cell_type": "code",
   "execution_count": 16,
   "metadata": {},
   "outputs": [],
   "source": [
    "ALL_DATA = ['LMC-BG1', 'LMC-BG2', 'LMC-BG3', 'LMC-BG4', 'LMC-BG5', 'LMC-BG6']\n",
    "lag_msS = np.arange(20,100,10)\n",
    "params = {\n",
    "    'dataset': ['LMC-BG1'],\n",
    "    'beta': [1e-3],\n",
    "    'window_factor': [2],\n",
    "    'dt_ms': [2.0],\n",
    "    'lag_ms': lag_msS,\n",
    "    'method': ['constant', 'eig-TIME', 'eig-C-TIME'],\n",
    "\n",
    "}\n",
    "results = param_runner(test_run, params)\n"
   ]
  },
  {
   "cell_type": "code",
   "execution_count": 17,
   "metadata": {},
   "outputs": [],
   "source": [
    "# plot_dataframe(results, 'X_series', x_col='Time-X', line_cols='dt_ms')\n",
    "# plot_dataframe(results, 'Theta (REAL)',  title_cols=[ 'method',  'lag_ms'], val_styles=[['.-']])\n",
    "# plot_dataframe(results, 'Theta (REAL)',x_col='Time-Filter', title_cols=[ 'method','lag_ms','dt_ms'])\n",
    "# plot_dataframe(results.loc[results['method'] == 'PredCodingWindow'], ['Y_series', 'P_series'], title_cols=[  'lag_ms','dt_ms'])\n"
   ]
  },
  {
   "cell_type": "code",
   "execution_count": 18,
   "metadata": {},
   "outputs": [
    {
     "data": {
      "text/plain": [
       "[[<matplotlib.axis.XTick at 0x125fc42b0>,\n",
       "  <matplotlib.axis.XTick at 0x125fc4280>,\n",
       "  <matplotlib.axis.XTick at 0x126016f70>,\n",
       "  <matplotlib.axis.XTick at 0x126020130>,\n",
       "  <matplotlib.axis.XTick at 0x1260207c0>,\n",
       "  <matplotlib.axis.XTick at 0x126020f10>,\n",
       "  <matplotlib.axis.XTick at 0x1260296a0>,\n",
       "  <matplotlib.axis.XTick at 0x126029df0>]]"
      ]
     },
     "execution_count": 18,
     "metadata": {},
     "output_type": "execute_result"
    },
    {
     "data": {
      "image/png": "[encoded data removed]",
      "text/plain": [
       "<Figure size 432x288 with 1 Axes>"
      ]
     },
     "metadata": {},
     "output_type": "display_data"
    }
   ],
   "source": [
    "lp = sns.lineplot(x ='lag_ms', y ='MSE', hue='method', markers=True, data=results)\n",
    "lp.set(xticks=lag_msS)"
   ]
  },
  {
   "cell_type": "code",
   "execution_count": null,
   "metadata": {},
   "outputs": [],
   "source": []
  }
 ],
 "metadata": {
  "interpreter": {
   "hash": "aee8b7b246df8f9039afb4144a1f6fd8d2ca17a180786b69acc140d282b71a49"
  },
  "kernelspec": {
   "display_name": "Python 3.9.9 64-bit",
   "language": "python",
   "name": "python3"
  },
  "language_info": {
   "codemirror_mode": {
    "name": "ipython",
    "version": 3
   },
   "file_extension": ".py",
   "mimetype": "text/x-python",
   "name": "python",
   "nbconvert_exporter": "python",
   "pygments_lexer": "ipython3",
   "version": "3.9.9"
  },
  "orig_nbformat": 4
 },
 "nbformat": 4,
 "nbformat_minor": 2
}
