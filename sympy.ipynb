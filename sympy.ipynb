{
 "cells": [
  {
   "cell_type": "code",
   "execution_count": 1,
   "metadata": {},
   "outputs": [
    {
     "name": "stdout",
     "output_type": "stream",
     "text": [
      "c/(1 + exp(-t))\n",
      "c*exp(-t)/(1 + exp(-t))**2\n",
      "-c*exp(-t)/(1 + exp(-t))**2 + 2*c*exp(-2*t)/(1 + exp(-t))**3\n"
     ]
    }
   ],
   "source": [
    "import sympy\n",
    "from sympy import symbols, Eq\n",
    "from sympy.solvers import solve\n",
    "\n",
    "t, c = symbols('t c')\n",
    "x = c / (1+sympy.exp(-t))\n",
    "v = x.diff(t)\n",
    "a = v.diff(t)\n",
    "print(x); print(v); print(a)\n",
    "\n",
    "\n"
   ]
  },
  {
   "cell_type": "code",
   "execution_count": 2,
   "metadata": {},
   "outputs": [
    {
     "name": "stdout",
     "output_type": "stream",
     "text": [
      "[y + y*exp(-t)]\n",
      "[4*y*cosh(t/2)**2]\n",
      "[y*(exp(t) + 1)**3*exp(-t)/(1 - exp(t))]\n"
     ]
    }
   ],
   "source": [
    "y = symbols('y')\n",
    "pos = Eq(y, x)\n",
    "sol = solve(pos,c)\n",
    "print(sol)\n",
    "\n",
    "y = symbols('y')\n",
    "vol = Eq(y, v)\n",
    "sol = solve(vol,c)\n",
    "print(sol)\n",
    "\n",
    "y = symbols('y')\n",
    "acc = Eq(y, a)\n",
    "sol = solve(acc,c)\n",
    "print(sol)"
   ]
  },
  {
   "cell_type": "code",
   "execution_count": null,
   "metadata": {},
   "outputs": [],
   "source": []
  }
 ],
 "metadata": {
  "interpreter": {
   "hash": "aee8b7b246df8f9039afb4144a1f6fd8d2ca17a180786b69acc140d282b71a49"
  },
  "kernelspec": {
   "display_name": "Python 3.9.9 64-bit",
   "language": "python",
   "name": "python3"
  },
  "language_info": {
   "codemirror_mode": {
    "name": "ipython",
    "version": 3
   },
   "file_extension": ".py",
   "mimetype": "text/x-python",
   "name": "python",
   "nbconvert_exporter": "python",
   "pygments_lexer": "ipython3",
   "version": "3.9.9"
  },
  "orig_nbformat": 4
 },
 "nbformat": 4,
 "nbformat_minor": 2
}
